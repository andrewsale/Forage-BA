{
 "cells": [
  {
   "cell_type": "code",
   "execution_count": 1,
   "metadata": {},
   "outputs": [],
   "source": [
    "import pandas as pd\n",
    "from transformers import AutoTokenizer, TFAutoModelForSequenceClassification\n",
    "import tensorflow as tf"
   ]
  },
  {
   "cell_type": "code",
   "execution_count": 2,
   "metadata": {},
   "outputs": [],
   "source": [
    "df = pd.read_csv(\"data/BA_reviews_proc.csv\", index_col=0)"
   ]
  },
  {
   "cell_type": "code",
   "execution_count": 3,
   "metadata": {},
   "outputs": [
    {
     "name": "stderr",
     "output_type": "stream",
     "text": [
      "All model checkpoint layers were used when initializing TFDistilBertForSequenceClassification.\n",
      "\n",
      "All the layers of TFDistilBertForSequenceClassification were initialized from the model checkpoint at distilbert-base-uncased-finetuned-sst-2-english.\n",
      "If your task is similar to the task the model of the checkpoint was trained on, you can already use TFDistilBertForSequenceClassification for predictions without further training.\n"
     ]
    }
   ],
   "source": [
    "model_name = \"distilbert-base-uncased-finetuned-sst-2-english\"\n",
    "tokenizer = AutoTokenizer.from_pretrained(model_name)\n",
    "model = TFAutoModelForSequenceClassification.from_pretrained(model_name)"
   ]
  },
  {
   "cell_type": "code",
   "execution_count": 4,
   "metadata": {},
   "outputs": [],
   "source": [
    "reviews_tok = tokenizer(df.reviews.tolist(), \n",
    "                        max_length=512, \n",
    "                        truncation=True, \n",
    "                        return_tensors=\"tf\", \n",
    "                        padding=True\n",
    "                    )\n",
    "reviews_ds = tf.data.Dataset.from_tensor_slices((dict(reviews_tok)))"
   ]
  },
  {
   "cell_type": "code",
   "execution_count": 5,
   "metadata": {},
   "outputs": [
    {
     "name": "stdout",
     "output_type": "stream",
     "text": [
      "WARNING:tensorflow:From c:\\Users\\andre\\OneDrive\\Documents\\GitHub\\Forage-BA\\.venv\\lib\\site-packages\\tensorflow\\python\\autograph\\pyct\\static_analysis\\liveness.py:83: Analyzer.lamba_check (from tensorflow.python.autograph.pyct.static_analysis.liveness) is deprecated and will be removed after 2023-09-23.\n",
      "Instructions for updating:\n",
      "Lambda fuctions will be no more assumed to be used in the statement where they are used, or at least in the same block. https://github.com/tensorflow/tensorflow/issues/56089\n",
      "14/14 [==============================] - 2019s 140s/step\n"
     ]
    }
   ],
   "source": [
    "preds = model.predict(reviews_ds.batch(256))"
   ]
  },
  {
   "cell_type": "code",
   "execution_count": 6,
   "metadata": {},
   "outputs": [],
   "source": [
    "preds_np = tf.nn.softmax(preds.logits, axis=1).numpy()"
   ]
  },
  {
   "cell_type": "code",
   "execution_count": 7,
   "metadata": {},
   "outputs": [
    {
     "data": {
      "text/plain": [
       "(3451,)"
      ]
     },
     "execution_count": 7,
     "metadata": {},
     "output_type": "execute_result"
    }
   ],
   "source": [
    "preds_np[:,1].shape"
   ]
  },
  {
   "cell_type": "code",
   "execution_count": 8,
   "metadata": {},
   "outputs": [],
   "source": [
    "df['Sentiment'] = preds_np[:,1]"
   ]
  },
  {
   "cell_type": "code",
   "execution_count": 9,
   "metadata": {},
   "outputs": [
    {
     "data": {
      "text/html": [
       "<div>\n",
       "<style scoped>\n",
       "    .dataframe tbody tr th:only-of-type {\n",
       "        vertical-align: middle;\n",
       "    }\n",
       "\n",
       "    .dataframe tbody tr th {\n",
       "        vertical-align: top;\n",
       "    }\n",
       "\n",
       "    .dataframe thead th {\n",
       "        text-align: right;\n",
       "    }\n",
       "</style>\n",
       "<table border=\"1\" class=\"dataframe\">\n",
       "  <thead>\n",
       "    <tr style=\"text-align: right;\">\n",
       "      <th></th>\n",
       "      <th>reviews</th>\n",
       "      <th>Verified</th>\n",
       "      <th>Sentiment</th>\n",
       "    </tr>\n",
       "  </thead>\n",
       "  <tbody>\n",
       "    <tr>\n",
       "      <th>0</th>\n",
       "      <td>Probably the worst business class experience I...</td>\n",
       "      <td>1</td>\n",
       "      <td>0.000232</td>\n",
       "    </tr>\n",
       "    <tr>\n",
       "      <th>1</th>\n",
       "      <td>Definitely not recommended, especially for bus...</td>\n",
       "      <td>1</td>\n",
       "      <td>0.003603</td>\n",
       "    </tr>\n",
       "    <tr>\n",
       "      <th>2</th>\n",
       "      <td>BA shuttle service across the UK is still surp...</td>\n",
       "      <td>1</td>\n",
       "      <td>0.993670</td>\n",
       "    </tr>\n",
       "    <tr>\n",
       "      <th>3</th>\n",
       "      <td>I must admit like many others I tend to avoid ...</td>\n",
       "      <td>1</td>\n",
       "      <td>0.009478</td>\n",
       "    </tr>\n",
       "    <tr>\n",
       "      <th>4</th>\n",
       "      <td>When will BA update their Business class cabin...</td>\n",
       "      <td>0</td>\n",
       "      <td>0.000529</td>\n",
       "    </tr>\n",
       "  </tbody>\n",
       "</table>\n",
       "</div>"
      ],
      "text/plain": [
       "                                             reviews  Verified  Sentiment\n",
       "0  Probably the worst business class experience I...         1   0.000232\n",
       "1  Definitely not recommended, especially for bus...         1   0.003603\n",
       "2  BA shuttle service across the UK is still surp...         1   0.993670\n",
       "3  I must admit like many others I tend to avoid ...         1   0.009478\n",
       "4  When will BA update their Business class cabin...         0   0.000529"
      ]
     },
     "execution_count": 9,
     "metadata": {},
     "output_type": "execute_result"
    }
   ],
   "source": [
    "df.head(5)"
   ]
  },
  {
   "cell_type": "code",
   "execution_count": 10,
   "metadata": {},
   "outputs": [
    {
     "name": "stdout",
     "output_type": "stream",
     "text": [
      "REVIEW 1:\n",
      "SENTIMENT RATING: 0.9620\n",
      "REVIEW: Gatwick-Naples returning Barcelona-Gatwick. Excellent flights as usual. Especially loved the stylish and comfortable interiors of the refitted A319 on the Naples run. Both flights left late but it didn't seem to seriously affect arrival time. Only complaint is the food/drinks service sandwich is not to my taste and I now refuse them - but other passengers seem pleased. Should offer an alternative such as crisps or nuts to go with wine.\n",
      "------------------------------\n",
      "REVIEW 1:\n",
      "SENTIMENT RATING: 0.0002\n",
      "REVIEW: London to St Petersburgh. Huge disappointment for BA business class service in European routes. Seat pitch has been reduced to 30\" over the last years (from 34\") at the expense of passenger comfort. Seat width is the same as economy with empty middle seat. Food for me was half-empty plates representing a deli experience, and leaving me hungry. Out of the three options offered, two were already out of stock, so stranded with the least favourable and most unhealthy food option. Avoid Club Europe, not worth the money.\n",
      "------------------------------\n",
      "REVIEW 1:\n",
      "SENTIMENT RATING: 0.0010\n",
      "REVIEW: We had the \"pleasure\" of flying back to the UK on the first day of BA's fantastic idea of starting to charge for drinks and snacks (a la sister company Iberia). Someone please explain to me what the difference is with Ryanair, Easyjet and Norwegian now? It's become a budget airline and I for one won't be using them anymore if I can avoid it. They cut the Avios for flights, made it more difficult to go up tiers and now this joke? I'm not even bothered about the sandwich to be really honest but on a 4 hour flight I expect BA to give me a drink. Then when I wanted to buy a sandwich I was told that there were only 3 for the entire plane and they sold out. Salad then? Sold out. Some crisps? Unfortunately the person in front of me got the last bag. BA you aren't Iberia or Air Lingus. Stop this nonsense please. Take an example to KLM. The week before, AMS - MAD, hot pasta, 2 rounds of drinks and then cake with coffee or tea and that was Economy also. I will avoid BA like the plague now, sorry but no appeal whatsoever anymore until they become a customer focused airline once again instead of focussing on just their profits.\n",
      "------------------------------\n",
      "REVIEW 1:\n",
      "SENTIMENT RATING: 0.0052\n",
      "REVIEW: Flight was decent. Have to say the seat was rather cramp. I'm 180cm, or 5 foot 9, sat at seat 32F. Inflight entertainment was alright, but do take note to always unplug the headset whenever you get out of your seat. It damages easily if it gets caught on something. I had to change 2 headsets because of that, because being in a aisle seat, you have to get off when someone wants to use the lavatory, thus remember to unplug it if you intend to get up from your seat. Service was alright. I requested for eye shades, and it came about 1hr later, crew must have forgotten about my request. I didn't pursue it as I thought I could just head to the back galley and request for them after my movie. In terms of food, it was appalling and greasy. Overall, I will not say never again, but given a choice, I'd look out for Singapore Airlines first, then the big 3 Gulf carriers. For the right price I'd do BA again, otherwise, there are better ways to suffer than that cramped seat\n",
      "------------------------------\n",
      "REVIEW 1:\n",
      "SENTIMENT RATING: 0.0017\n",
      "REVIEW: Reasonably smooth boarding. Meal service was smooth ad efficient but no ice or spirits available as no room on the trolley - could they have offered to serve this afterwards? Seat was very uncomfortable indeed on this aircraft so got little if any sleep on the long overnight flight. Cabin crew spent much of the time between meals talking loudly at the rear galley meaning we couldn't sleep even if the seats were comfortable. This was so disrespectful and inconsiderate.\n",
      "------------------------------\n"
     ]
    }
   ],
   "source": [
    "for row in df.sample(5).iterrows():\n",
    "    print('REVIEW:')\n",
    "    print(f'SENTIMENT RATING: {row[1].Sentiment:.4f}')\n",
    "    print(f'REVIEW: {row[1].reviews}')\n",
    "    print('-'*30)"
   ]
  },
  {
   "cell_type": "code",
   "execution_count": 11,
   "metadata": {},
   "outputs": [],
   "source": [
    "df.to_csv(\"data/BA_reviews_sentiments.csv\")"
   ]
  },
  {
   "attachments": {},
   "cell_type": "markdown",
   "metadata": {},
   "source": [
    "# Summary of results"
   ]
  },
  {
   "cell_type": "code",
   "execution_count": 12,
   "metadata": {},
   "outputs": [
    {
     "name": "stdout",
     "output_type": "stream",
     "text": [
      "Number of positive reviews:  938\n",
      "Number of negative reviews:  2383\n"
     ]
    }
   ],
   "source": [
    "print('Number of positive reviews: ', df[df['Sentiment'] > 0.8].shape[0])\n",
    "print('Number of negative reviews: ', df[df['Sentiment'] < 0.2].shape[0])"
   ]
  }
 ],
 "metadata": {
  "kernelspec": {
   "display_name": ".venv",
   "language": "python",
   "name": "python3"
  },
  "language_info": {
   "codemirror_mode": {
    "name": "ipython",
    "version": 3
   },
   "file_extension": ".py",
   "mimetype": "text/x-python",
   "name": "python",
   "nbconvert_exporter": "python",
   "pygments_lexer": "ipython3",
   "version": "3.9.13 (main, Aug 25 2022, 23:51:50) [MSC v.1916 64 bit (AMD64)]"
  },
  "orig_nbformat": 4,
  "vscode": {
   "interpreter": {
    "hash": "a21063291a13e2c2bf50e3e7f2b931f9d42a87a27f5a2383d522bc280aa39f1e"
   }
  }
 },
 "nbformat": 4,
 "nbformat_minor": 2
}
