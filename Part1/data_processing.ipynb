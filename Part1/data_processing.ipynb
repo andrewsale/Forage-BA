{
 "cells": [
  {
   "cell_type": "code",
   "execution_count": 1,
   "metadata": {},
   "outputs": [],
   "source": [
    "import pandas as pd\n",
    "import numpy as np"
   ]
  },
  {
   "cell_type": "code",
   "execution_count": 2,
   "metadata": {},
   "outputs": [],
   "source": [
    "df = pd.read_csv(\"data/BA_reviews.csv\", index_col=0)"
   ]
  },
  {
   "cell_type": "code",
   "execution_count": 3,
   "metadata": {},
   "outputs": [],
   "source": [
    "df['Verified'] = 0\n",
    "df.loc[df.reviews.str.contains('✅ Trip Verified |', regex=False),'Verified'] = 1"
   ]
  },
  {
   "cell_type": "code",
   "execution_count": 4,
   "metadata": {},
   "outputs": [],
   "source": [
    "df.reviews = df.reviews.str.replace('✅ Trip Verified |','',regex=False)\\\n",
    "                .str.replace('Not Verified | ', '', regex=False)\\\n",
    "                .str.replace('❎ Unverified | ', '', regex=False)\\\n",
    "                .str.replace('✅ Verified Review | ', '', regex=False)\\\n",
    "                .str.replace('❎', '', regex=False)\\\n",
    "                .str.strip()"
   ]
  },
  {
   "cell_type": "code",
   "execution_count": 5,
   "metadata": {},
   "outputs": [
    {
     "name": "stdout",
     "output_type": "stream",
     "text": [
      "I usually fly on Asian airlines (ANA, EVA, Korean, Asiana) and accustomed to their very good service and food. This was my first flight on British Airways from Vancouver to Lisbon via London. I selected it because of price. Overall experience was adequate. Plane was an older B747 and interior showed its age. IFE was outdated. Seat comfort was fine. Cabin crew not attentive between meals. Western food offerings just ok. Had several hours layover at Heathrow. British Airways ground staff good and pleasant. I might fly British Airways again if equipment is updated to A380 or Boeing 787 and price is lowest to Europe.\n",
      "------------------------------\n",
      "Gatwick to St Lucia return. Recently returned from a two week holiday with my wife in Caribbean for a 60th birthday celebration. Tickets bought in August 2018 and decided to spoil ourselves with a Club Class return, having flown out Premium Economy. Arrived at airport to be told that we'd been downgraded to Premium Economy due to overbooking. Apologetic ground staff (defending the indefensible) but no apology on the plane. Fuming all the way back to London, exacerbated by hopeless cabin staff service (tea when I asked for coffee) and filthy food. Complained on return through BA exec Club webiste with response from Customer Service 10 days later. BA claims that overbooking is a very rare occurrence and gave a lukewarm apology. Evidence from ground staff on both journeys contradicts this and it seems to be a standard occurrence during peak season. We booked early so probably had relatively cheap seats. BA has presumably made money by selling our tickets to a higher bidder. General quality of BA service, food and wine has fallen dramatically over the last few years. BA is now effectively a low cost airline, flying a fleet of very tired aircraft, trying to preserve the gloss of a quality airline. The accountants may win in the short term but passengers will vote with their feet. Avoid this airline if you possible can. And the final insult in booking premium seats with BA is that you get charge £40 to pre reserve in Club and £70 in Premium Economy. BA, you are having a laugh with the flying public. On this performance you don't deserve to stay in business.\n",
      "------------------------------\n",
      "Fantastic from the word go. Check in was great, Concorde lounge great along with the spa elemis treatment which was lovely. Good service and attention to detail. Crew onboard delightful. Food was nice and was a real pleasure.\n",
      "------------------------------\n",
      "BRU-LHR-DFW-SAT. BRU-LHR: Club Europe Smooth check-in with friendly ground crew small but clean lounge with a delicious croissant and coffee greeted by friendly cabin-crew who gave us an excellent service on this small flight starting with hot towels tasting hot breakfast and excellent tea seats are comfortable but narrow for this short flight. LHR-DFW: First class with fast security process Concorde room with online reserved Cabana was again an island of rest and comfort. Clean 777-300 greeted by name flight crew were excellent. Flight and service couldn't be better. Food was good amenity kit contains everything you need on a 10-hours flight slippers and pyjamas were comfortable. Service was private excellent and on request always with a smile asking if everything was alright. Screen in first is still on of the best with a good selection of movies. DFW-SAT: First class customs in Dallas were electronic for ESTA people so 10 minutes after leaving the plane I was waiting for my bags so I could recheck for my last domestic flight! Greeted by friendly crew when boarding old plane AA. We were offered hot towel and glass of champagne. Friendly captain told us after leaving the gate that there was a problem and we did have to taxi to another gate for technical support. After 1 hour (captain had kept us informed) we took off an arrived after a short flight in San Antonio.\n",
      "------------------------------\n"
     ]
    }
   ],
   "source": [
    "for review in df.reviews.sample(4):\n",
    "    print(review)\n",
    "    print('-'*30)"
   ]
  },
  {
   "cell_type": "code",
   "execution_count": null,
   "metadata": {},
   "outputs": [],
   "source": [
    "df.to_csv(\"data/BA_reviews_proc.csv\")"
   ]
  },
  {
   "cell_type": "code",
   "execution_count": null,
   "metadata": {},
   "outputs": [],
   "source": []
  }
 ],
 "metadata": {
  "kernelspec": {
   "display_name": ".venv",
   "language": "python",
   "name": "python3"
  },
  "language_info": {
   "codemirror_mode": {
    "name": "ipython",
    "version": 3
   },
   "file_extension": ".py",
   "mimetype": "text/x-python",
   "name": "python",
   "nbconvert_exporter": "python",
   "pygments_lexer": "ipython3",
   "version": "3.9.13 (main, Aug 25 2022, 23:51:50) [MSC v.1916 64 bit (AMD64)]"
  },
  "orig_nbformat": 4,
  "vscode": {
   "interpreter": {
    "hash": "a21063291a13e2c2bf50e3e7f2b931f9d42a87a27f5a2383d522bc280aa39f1e"
   }
  }
 },
 "nbformat": 4,
 "nbformat_minor": 2
}
