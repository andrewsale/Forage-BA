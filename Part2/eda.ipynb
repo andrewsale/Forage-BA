{
 "cells": [
  {
   "cell_type": "code",
   "execution_count": 23,
   "metadata": {},
   "outputs": [],
   "source": [
    "import pandas as pd\n",
    "import matplotlib.pyplot as plt\n",
    "import seaborn as sns"
   ]
  },
  {
   "cell_type": "code",
   "execution_count": 13,
   "metadata": {},
   "outputs": [],
   "source": [
    "df = pd.read_csv('data/customer_booking.csv', encoding='latin-1')"
   ]
  },
  {
   "cell_type": "code",
   "execution_count": 17,
   "metadata": {},
   "outputs": [
    {
     "data": {
      "text/html": [
       "<div>\n",
       "<style scoped>\n",
       "    .dataframe tbody tr th:only-of-type {\n",
       "        vertical-align: middle;\n",
       "    }\n",
       "\n",
       "    .dataframe tbody tr th {\n",
       "        vertical-align: top;\n",
       "    }\n",
       "\n",
       "    .dataframe thead th {\n",
       "        text-align: right;\n",
       "    }\n",
       "</style>\n",
       "<table border=\"1\" class=\"dataframe\">\n",
       "  <thead>\n",
       "    <tr style=\"text-align: right;\">\n",
       "      <th></th>\n",
       "      <th>num_passengers</th>\n",
       "      <th>sales_channel</th>\n",
       "      <th>trip_type</th>\n",
       "      <th>purchase_lead</th>\n",
       "      <th>length_of_stay</th>\n",
       "      <th>flight_hour</th>\n",
       "      <th>flight_day</th>\n",
       "      <th>route</th>\n",
       "      <th>booking_origin</th>\n",
       "      <th>wants_extra_baggage</th>\n",
       "      <th>wants_preferred_seat</th>\n",
       "      <th>wants_in_flight_meals</th>\n",
       "      <th>flight_duration</th>\n",
       "      <th>booking_complete</th>\n",
       "    </tr>\n",
       "  </thead>\n",
       "  <tbody>\n",
       "    <tr>\n",
       "      <th>0</th>\n",
       "      <td>2</td>\n",
       "      <td>Internet</td>\n",
       "      <td>RoundTrip</td>\n",
       "      <td>262</td>\n",
       "      <td>19</td>\n",
       "      <td>7</td>\n",
       "      <td>Sat</td>\n",
       "      <td>AKLDEL</td>\n",
       "      <td>New Zealand</td>\n",
       "      <td>1</td>\n",
       "      <td>0</td>\n",
       "      <td>0</td>\n",
       "      <td>5.52</td>\n",
       "      <td>0</td>\n",
       "    </tr>\n",
       "    <tr>\n",
       "      <th>1</th>\n",
       "      <td>1</td>\n",
       "      <td>Internet</td>\n",
       "      <td>RoundTrip</td>\n",
       "      <td>112</td>\n",
       "      <td>20</td>\n",
       "      <td>3</td>\n",
       "      <td>Sat</td>\n",
       "      <td>AKLDEL</td>\n",
       "      <td>New Zealand</td>\n",
       "      <td>0</td>\n",
       "      <td>0</td>\n",
       "      <td>0</td>\n",
       "      <td>5.52</td>\n",
       "      <td>0</td>\n",
       "    </tr>\n",
       "    <tr>\n",
       "      <th>2</th>\n",
       "      <td>2</td>\n",
       "      <td>Internet</td>\n",
       "      <td>RoundTrip</td>\n",
       "      <td>243</td>\n",
       "      <td>22</td>\n",
       "      <td>17</td>\n",
       "      <td>Wed</td>\n",
       "      <td>AKLDEL</td>\n",
       "      <td>India</td>\n",
       "      <td>1</td>\n",
       "      <td>1</td>\n",
       "      <td>0</td>\n",
       "      <td>5.52</td>\n",
       "      <td>0</td>\n",
       "    </tr>\n",
       "    <tr>\n",
       "      <th>3</th>\n",
       "      <td>1</td>\n",
       "      <td>Internet</td>\n",
       "      <td>RoundTrip</td>\n",
       "      <td>96</td>\n",
       "      <td>31</td>\n",
       "      <td>4</td>\n",
       "      <td>Sat</td>\n",
       "      <td>AKLDEL</td>\n",
       "      <td>New Zealand</td>\n",
       "      <td>0</td>\n",
       "      <td>0</td>\n",
       "      <td>1</td>\n",
       "      <td>5.52</td>\n",
       "      <td>0</td>\n",
       "    </tr>\n",
       "    <tr>\n",
       "      <th>4</th>\n",
       "      <td>2</td>\n",
       "      <td>Internet</td>\n",
       "      <td>RoundTrip</td>\n",
       "      <td>68</td>\n",
       "      <td>22</td>\n",
       "      <td>15</td>\n",
       "      <td>Wed</td>\n",
       "      <td>AKLDEL</td>\n",
       "      <td>India</td>\n",
       "      <td>1</td>\n",
       "      <td>0</td>\n",
       "      <td>1</td>\n",
       "      <td>5.52</td>\n",
       "      <td>0</td>\n",
       "    </tr>\n",
       "  </tbody>\n",
       "</table>\n",
       "</div>"
      ],
      "text/plain": [
       "   num_passengers sales_channel  trip_type  purchase_lead  length_of_stay  \\\n",
       "0               2      Internet  RoundTrip            262              19   \n",
       "1               1      Internet  RoundTrip            112              20   \n",
       "2               2      Internet  RoundTrip            243              22   \n",
       "3               1      Internet  RoundTrip             96              31   \n",
       "4               2      Internet  RoundTrip             68              22   \n",
       "\n",
       "   flight_hour flight_day   route booking_origin  wants_extra_baggage  \\\n",
       "0            7        Sat  AKLDEL    New Zealand                    1   \n",
       "1            3        Sat  AKLDEL    New Zealand                    0   \n",
       "2           17        Wed  AKLDEL          India                    1   \n",
       "3            4        Sat  AKLDEL    New Zealand                    0   \n",
       "4           15        Wed  AKLDEL          India                    1   \n",
       "\n",
       "   wants_preferred_seat  wants_in_flight_meals  flight_duration  \\\n",
       "0                     0                      0             5.52   \n",
       "1                     0                      0             5.52   \n",
       "2                     1                      0             5.52   \n",
       "3                     0                      1             5.52   \n",
       "4                     0                      1             5.52   \n",
       "\n",
       "   booking_complete  \n",
       "0                 0  \n",
       "1                 0  \n",
       "2                 0  \n",
       "3                 0  \n",
       "4                 0  "
      ]
     },
     "execution_count": 17,
     "metadata": {},
     "output_type": "execute_result"
    }
   ],
   "source": [
    "df.head(5)"
   ]
  },
  {
   "attachments": {},
   "cell_type": "markdown",
   "metadata": {},
   "source": [
    "# General statistics\n",
    "\n",
    "We see that about 15% of flights bookings are completed."
   ]
  },
  {
   "cell_type": "code",
   "execution_count": 31,
   "metadata": {},
   "outputs": [
    {
     "data": {
      "text/html": [
       "<div>\n",
       "<style scoped>\n",
       "    .dataframe tbody tr th:only-of-type {\n",
       "        vertical-align: middle;\n",
       "    }\n",
       "\n",
       "    .dataframe tbody tr th {\n",
       "        vertical-align: top;\n",
       "    }\n",
       "\n",
       "    .dataframe thead th {\n",
       "        text-align: right;\n",
       "    }\n",
       "</style>\n",
       "<table border=\"1\" class=\"dataframe\">\n",
       "  <thead>\n",
       "    <tr style=\"text-align: right;\">\n",
       "      <th></th>\n",
       "      <th>num_passengers</th>\n",
       "      <th>purchase_lead</th>\n",
       "      <th>length_of_stay</th>\n",
       "      <th>flight_hour</th>\n",
       "      <th>wants_extra_baggage</th>\n",
       "      <th>wants_preferred_seat</th>\n",
       "      <th>wants_in_flight_meals</th>\n",
       "      <th>flight_duration</th>\n",
       "      <th>booking_complete</th>\n",
       "    </tr>\n",
       "  </thead>\n",
       "  <tbody>\n",
       "    <tr>\n",
       "      <th>count</th>\n",
       "      <td>50000.000000</td>\n",
       "      <td>50000.000000</td>\n",
       "      <td>50000.00000</td>\n",
       "      <td>50000.00000</td>\n",
       "      <td>50000.000000</td>\n",
       "      <td>50000.000000</td>\n",
       "      <td>50000.000000</td>\n",
       "      <td>50000.000000</td>\n",
       "      <td>50000.000000</td>\n",
       "    </tr>\n",
       "    <tr>\n",
       "      <th>mean</th>\n",
       "      <td>1.591240</td>\n",
       "      <td>84.940480</td>\n",
       "      <td>23.04456</td>\n",
       "      <td>9.06634</td>\n",
       "      <td>0.668780</td>\n",
       "      <td>0.296960</td>\n",
       "      <td>0.427140</td>\n",
       "      <td>7.277561</td>\n",
       "      <td>0.149560</td>\n",
       "    </tr>\n",
       "    <tr>\n",
       "      <th>std</th>\n",
       "      <td>1.020165</td>\n",
       "      <td>90.451378</td>\n",
       "      <td>33.88767</td>\n",
       "      <td>5.41266</td>\n",
       "      <td>0.470657</td>\n",
       "      <td>0.456923</td>\n",
       "      <td>0.494668</td>\n",
       "      <td>1.496863</td>\n",
       "      <td>0.356643</td>\n",
       "    </tr>\n",
       "    <tr>\n",
       "      <th>min</th>\n",
       "      <td>1.000000</td>\n",
       "      <td>0.000000</td>\n",
       "      <td>0.00000</td>\n",
       "      <td>0.00000</td>\n",
       "      <td>0.000000</td>\n",
       "      <td>0.000000</td>\n",
       "      <td>0.000000</td>\n",
       "      <td>4.670000</td>\n",
       "      <td>0.000000</td>\n",
       "    </tr>\n",
       "    <tr>\n",
       "      <th>25%</th>\n",
       "      <td>1.000000</td>\n",
       "      <td>21.000000</td>\n",
       "      <td>5.00000</td>\n",
       "      <td>5.00000</td>\n",
       "      <td>0.000000</td>\n",
       "      <td>0.000000</td>\n",
       "      <td>0.000000</td>\n",
       "      <td>5.620000</td>\n",
       "      <td>0.000000</td>\n",
       "    </tr>\n",
       "    <tr>\n",
       "      <th>50%</th>\n",
       "      <td>1.000000</td>\n",
       "      <td>51.000000</td>\n",
       "      <td>17.00000</td>\n",
       "      <td>9.00000</td>\n",
       "      <td>1.000000</td>\n",
       "      <td>0.000000</td>\n",
       "      <td>0.000000</td>\n",
       "      <td>7.570000</td>\n",
       "      <td>0.000000</td>\n",
       "    </tr>\n",
       "    <tr>\n",
       "      <th>75%</th>\n",
       "      <td>2.000000</td>\n",
       "      <td>115.000000</td>\n",
       "      <td>28.00000</td>\n",
       "      <td>13.00000</td>\n",
       "      <td>1.000000</td>\n",
       "      <td>1.000000</td>\n",
       "      <td>1.000000</td>\n",
       "      <td>8.830000</td>\n",
       "      <td>0.000000</td>\n",
       "    </tr>\n",
       "    <tr>\n",
       "      <th>max</th>\n",
       "      <td>9.000000</td>\n",
       "      <td>867.000000</td>\n",
       "      <td>778.00000</td>\n",
       "      <td>23.00000</td>\n",
       "      <td>1.000000</td>\n",
       "      <td>1.000000</td>\n",
       "      <td>1.000000</td>\n",
       "      <td>9.500000</td>\n",
       "      <td>1.000000</td>\n",
       "    </tr>\n",
       "  </tbody>\n",
       "</table>\n",
       "</div>"
      ],
      "text/plain": [
       "       num_passengers  purchase_lead  length_of_stay  flight_hour  \\\n",
       "count    50000.000000   50000.000000     50000.00000  50000.00000   \n",
       "mean         1.591240      84.940480        23.04456      9.06634   \n",
       "std          1.020165      90.451378        33.88767      5.41266   \n",
       "min          1.000000       0.000000         0.00000      0.00000   \n",
       "25%          1.000000      21.000000         5.00000      5.00000   \n",
       "50%          1.000000      51.000000        17.00000      9.00000   \n",
       "75%          2.000000     115.000000        28.00000     13.00000   \n",
       "max          9.000000     867.000000       778.00000     23.00000   \n",
       "\n",
       "       wants_extra_baggage  wants_preferred_seat  wants_in_flight_meals  \\\n",
       "count         50000.000000          50000.000000           50000.000000   \n",
       "mean              0.668780              0.296960               0.427140   \n",
       "std               0.470657              0.456923               0.494668   \n",
       "min               0.000000              0.000000               0.000000   \n",
       "25%               0.000000              0.000000               0.000000   \n",
       "50%               1.000000              0.000000               0.000000   \n",
       "75%               1.000000              1.000000               1.000000   \n",
       "max               1.000000              1.000000               1.000000   \n",
       "\n",
       "       flight_duration  booking_complete  \n",
       "count     50000.000000      50000.000000  \n",
       "mean          7.277561          0.149560  \n",
       "std           1.496863          0.356643  \n",
       "min           4.670000          0.000000  \n",
       "25%           5.620000          0.000000  \n",
       "50%           7.570000          0.000000  \n",
       "75%           8.830000          0.000000  \n",
       "max           9.500000          1.000000  "
      ]
     },
     "execution_count": 31,
     "metadata": {},
     "output_type": "execute_result"
    }
   ],
   "source": [
    "df.describe()"
   ]
  },
  {
   "attachments": {},
   "cell_type": "markdown",
   "metadata": {},
   "source": [
    "# Distribution comparisons\n",
    "\n",
    "Visually it is hard to see significant differences in the distributions of the the numerical features between those where the booking was completed and those not. There are some worth noting:\n",
    "*\tLength of stay: Bookings for shorter trips tend to be more likely to be completed.\n",
    "*\tFlight duration: Bookings for the longest flights are less likely to be completed.\n",
    "*\tExtras: If extra baggage, preferred set, or in-flight meals are requested, then flights are slightly more likely to be booked.\n"
   ]
  },
  {
   "cell_type": "code",
   "execution_count": 156,
   "metadata": {},
   "outputs": [
    {
     "data": {
      "image/png": "[encoded data removed]",
      "text/plain": [
       "<Figure size 1600x700 with 8 Axes>"
      ]
     },
     "metadata": {},
     "output_type": "display_data"
    }
   ],
   "source": [
    "numerical_features = ['num_passengers', 'purchase_lead',\n",
    "       'length_of_stay', 'flight_hour', 'wants_extra_baggage', 'wants_preferred_seat',\n",
    "       'wants_in_flight_meals', 'flight_duration']\n",
    "\n",
    "fig, ax = plt.subplots(2,4, figsize=(16,7))\n",
    "for i,feature in enumerate(numerical_features):\n",
    "    if feature == 'length_of_stay':\n",
    "        df_temp = df[df['length_of_stay'] < 100][[feature,'booking_complete']]\n",
    "    elif feature == 'purchase_lead':\n",
    "        df_temp = df[df['purchase_lead'] < 400][[feature,'booking_complete']]\n",
    "    else:\n",
    "        df_temp = df[[feature,'booking_complete']]\n",
    "    if i ==0:\n",
    "        legend = True\n",
    "    else:\n",
    "        legend = False\n",
    "    sns.histplot(\n",
    "        df_temp,\n",
    "        x=feature, \n",
    "        hue='booking_complete', \n",
    "        ax=ax[i//4, i%4], \n",
    "        stat='percent', \n",
    "        common_norm=False,\n",
    "        bins=10, \n",
    "        multiple='layer',\n",
    "        legend=legend\n",
    "    )\n",
    "    # ax[i//4, i%4].set_title(f'{feature}')\n",
    "plt.show()"
   ]
  },
  {
   "attachments": {},
   "cell_type": "markdown",
   "metadata": {},
   "source": [
    "# Booking origin\n",
    "\n",
    "The majority of bookings (completed or not) are from Australia, there there are many other locations with many bookings.\n",
    "\n",
    "We see that, of the countries with a significant number of bookings, Malaysia has the highest completion rate."
   ]
  },
  {
   "cell_type": "code",
   "execution_count": 70,
   "metadata": {},
   "outputs": [],
   "source": [
    "booking_origins = pd.DataFrame(df['booking_origin'].value_counts())\n",
    "booking_origins_completion = pd.DataFrame(df.groupby('booking_origin')['booking_complete'].mean())\n",
    "booking_origins = pd.merge(\n",
    "    left=booking_origins,\n",
    "    right=booking_origins_completion,\n",
    "    left_index=True,\n",
    "    right_index=True\n",
    ")\n",
    "booking_origins = booking_origins.rename(columns={'booking_origin':'count', 'booking_complete':'completion_rate'})"
   ]
  },
  {
   "cell_type": "code",
   "execution_count": 157,
   "metadata": {},
   "outputs": [
    {
     "name": "stderr",
     "output_type": "stream",
     "text": [
      "C:\\Users\\andre\\AppData\\Local\\Temp\\ipykernel_23956\\616778520.py:8: UserWarning: FixedFormatter should only be used together with FixedLocator\n",
      "  fig.set_xticklabels(fig.get_xticklabels(), rotation=90)\n"
     ]
    },
    {
     "data": {
      "image/png": "[encoded data removed]",
      "text/plain": [
       "<Figure size 640x480 with 1 Axes>"
      ]
     },
     "metadata": {},
     "output_type": "display_data"
    }
   ],
   "source": [
    "fig = sns.scatterplot(\n",
    "    booking_origins.head(20).sort_values('completion_rate', ascending=False).reset_index(),\n",
    "    x='index',\n",
    "    y='completion_rate',\n",
    "    size='count',\n",
    "    legend=False\n",
    ")\n",
    "fig.set_xticklabels(fig.get_xticklabels(), rotation=90)\n",
    "fig.set_xlabel('Booking origin')\n",
    "fig.set_ylabel('Completion rate')\n",
    "# fig.set_title('Completion rate by location of booking origin')\n",
    "plt.show()"
   ]
  },
  {
   "cell_type": "markdown",
   "metadata": {},
   "source": [
    "# Routes\n",
    "\n",
    "We see that some routes are more frequent, and some have higher compeltion rates than others."
   ]
  },
  {
   "cell_type": "code",
   "execution_count": 116,
   "metadata": {},
   "outputs": [
    {
     "data": {
      "text/html": [
       "<div>\n",
       "<style scoped>\n",
       "    .dataframe tbody tr th:only-of-type {\n",
       "        vertical-align: middle;\n",
       "    }\n",
       "\n",
       "    .dataframe tbody tr th {\n",
       "        vertical-align: top;\n",
       "    }\n",
       "\n",
       "    .dataframe thead th {\n",
       "        text-align: right;\n",
       "    }\n",
       "</style>\n",
       "<table border=\"1\" class=\"dataframe\">\n",
       "  <thead>\n",
       "    <tr style=\"text-align: right;\">\n",
       "      <th></th>\n",
       "      <th>count</th>\n",
       "      <th>completion_rate</th>\n",
       "    </tr>\n",
       "    <tr>\n",
       "      <th>route</th>\n",
       "      <th></th>\n",
       "      <th></th>\n",
       "    </tr>\n",
       "  </thead>\n",
       "  <tbody>\n",
       "    <tr>\n",
       "      <th>AKLKUL</th>\n",
       "      <td>2680</td>\n",
       "      <td>0.211567</td>\n",
       "    </tr>\n",
       "    <tr>\n",
       "      <th>PENTPE</th>\n",
       "      <td>924</td>\n",
       "      <td>0.433983</td>\n",
       "    </tr>\n",
       "    <tr>\n",
       "      <th>MELSGN</th>\n",
       "      <td>842</td>\n",
       "      <td>0.051069</td>\n",
       "    </tr>\n",
       "    <tr>\n",
       "      <th>ICNSIN</th>\n",
       "      <td>801</td>\n",
       "      <td>0.112360</td>\n",
       "    </tr>\n",
       "    <tr>\n",
       "      <th>DMKKIX</th>\n",
       "      <td>744</td>\n",
       "      <td>0.251344</td>\n",
       "    </tr>\n",
       "    <tr>\n",
       "      <th>ICNSYD</th>\n",
       "      <td>695</td>\n",
       "      <td>0.007194</td>\n",
       "    </tr>\n",
       "    <tr>\n",
       "      <th>DMKPER</th>\n",
       "      <td>679</td>\n",
       "      <td>0.054492</td>\n",
       "    </tr>\n",
       "    <tr>\n",
       "      <th>DPSICN</th>\n",
       "      <td>666</td>\n",
       "      <td>0.085586</td>\n",
       "    </tr>\n",
       "    <tr>\n",
       "      <th>DMKOOL</th>\n",
       "      <td>655</td>\n",
       "      <td>0.061069</td>\n",
       "    </tr>\n",
       "    <tr>\n",
       "      <th>MELPEN</th>\n",
       "      <td>649</td>\n",
       "      <td>0.211094</td>\n",
       "    </tr>\n",
       "  </tbody>\n",
       "</table>\n",
       "</div>"
      ],
      "text/plain": [
       "        count  completion_rate\n",
       "route                         \n",
       "AKLKUL   2680         0.211567\n",
       "PENTPE    924         0.433983\n",
       "MELSGN    842         0.051069\n",
       "ICNSIN    801         0.112360\n",
       "DMKKIX    744         0.251344\n",
       "ICNSYD    695         0.007194\n",
       "DMKPER    679         0.054492\n",
       "DPSICN    666         0.085586\n",
       "DMKOOL    655         0.061069\n",
       "MELPEN    649         0.211094"
      ]
     },
     "execution_count": 116,
     "metadata": {},
     "output_type": "execute_result"
    }
   ],
   "source": [
    "routes = df.groupby(['route'])['booking_complete'].agg(['count','mean'])\n",
    "routes = routes.rename(columns={'mean':'completion_rate'})\\\n",
    "    .sort_values('count', ascending=False)\n",
    "routes.head(10)"
   ]
  },
  {
   "cell_type": "code",
   "execution_count": 160,
   "metadata": {},
   "outputs": [
    {
     "name": "stderr",
     "output_type": "stream",
     "text": [
      "C:\\Users\\andre\\AppData\\Local\\Temp\\ipykernel_23956\\2605653266.py:12: UserWarning: FixedFormatter should only be used together with FixedLocator\n",
      "  ax.set_xticklabels(ax.get_xticklabels(), rotation=90)\n"
     ]
    },
    {
     "data": {
      "image/png": "[encoded data removed]",
      "text/plain": [
       "<Figure size 1600x600 with 1 Axes>"
      ]
     },
     "metadata": {},
     "output_type": "display_data"
    }
   ],
   "source": [
    "fig, ax = plt.subplots(figsize=(16,6))\n",
    "sns.scatterplot(\n",
    "    routes.head(40).sort_values('completion_rate', ascending=False).reset_index(),\n",
    "    x='route',\n",
    "    y='completion_rate',\n",
    "    size='count',\n",
    "    legend=False,\n",
    "    ax=ax\n",
    ")\n",
    "ax.set_xlabel('Route')\n",
    "ax.set_ylabel('Completion rate')\n",
    "ax.set_xticklabels(ax.get_xticklabels(), rotation=90)\n",
    "plt.show()"
   ]
  },
  {
   "attachments": {},
   "cell_type": "markdown",
   "metadata": {},
   "source": [
    "## Route and booking origin - correlated?"
   ]
  },
  {
   "cell_type": "code",
   "execution_count": 172,
   "metadata": {},
   "outputs": [
    {
     "data": {
      "text/plain": [
       "United Kingdom    1\n",
       "Name: booking_origin, dtype: int64"
      ]
     },
     "execution_count": 172,
     "metadata": {},
     "output_type": "execute_result"
    }
   ],
   "source": [
    "origins = df[df['route']=='AKLDEL']['booking_origin'].value_counts()\n",
    "origins.shape[0]\n",
    "origins[2:]"
   ]
  },
  {
   "cell_type": "code",
   "execution_count": 194,
   "metadata": {},
   "outputs": [],
   "source": [
    "df[['route','booking_origin']]\n",
    "extra_local_searches = {}\n",
    "for route in df['route'].unique():\n",
    "    origins = df[df['route']==route]['booking_origin'].value_counts()\n",
    "    if origins.shape[0] > 2:\n",
    "        # print(f'Route {route} has {origins.shape[0] - 2} extra origins,\\\n",
    "        #  with {origins.sum()} searches,\\\n",
    "        #      comprising {origins[2:].sum()*100/origins.sum():.1f}% of searches for this route.')\n",
    "        extra_local_searches[route] = (origins[2:].sum() , origins[2:].sum()/origins.sum() , origins.index.to_list())\n",
    "    else:\n",
    "        extra_local_searches[route] = (0,0,origins.index.to_list())"
   ]
  },
  {
   "cell_type": "code",
   "execution_count": 197,
   "metadata": {},
   "outputs": [
    {
     "data": {
      "text/html": [
       "<div>\n",
       "<style scoped>\n",
       "    .dataframe tbody tr th:only-of-type {\n",
       "        vertical-align: middle;\n",
       "    }\n",
       "\n",
       "    .dataframe tbody tr th {\n",
       "        vertical-align: top;\n",
       "    }\n",
       "\n",
       "    .dataframe thead th {\n",
       "        text-align: right;\n",
       "    }\n",
       "</style>\n",
       "<table border=\"1\" class=\"dataframe\">\n",
       "  <thead>\n",
       "    <tr style=\"text-align: right;\">\n",
       "      <th></th>\n",
       "      <th>Extra searches</th>\n",
       "      <th>Proportion of extra searches</th>\n",
       "      <th>Origins</th>\n",
       "    </tr>\n",
       "  </thead>\n",
       "  <tbody>\n",
       "    <tr>\n",
       "      <th>DPSKTM</th>\n",
       "      <td>13</td>\n",
       "      <td>0.541667</td>\n",
       "      <td>[Nepal, Indonesia, Australia, United States, C...</td>\n",
       "    </tr>\n",
       "    <tr>\n",
       "      <th>DPSIKA</th>\n",
       "      <td>2</td>\n",
       "      <td>0.5</td>\n",
       "      <td>[Australia, Indonesia, United Kingdom, Malaysia]</td>\n",
       "    </tr>\n",
       "    <tr>\n",
       "      <th>PEKRGN</th>\n",
       "      <td>2</td>\n",
       "      <td>0.5</td>\n",
       "      <td>[United States, Japan, China, Myanmar (Burma)]</td>\n",
       "    </tr>\n",
       "    <tr>\n",
       "      <th>DMKKTM</th>\n",
       "      <td>5</td>\n",
       "      <td>0.416667</td>\n",
       "      <td>[Thailand, United States, Nepal, Norway, Japan...</td>\n",
       "    </tr>\n",
       "    <tr>\n",
       "      <th>HKGMRU</th>\n",
       "      <td>2</td>\n",
       "      <td>0.4</td>\n",
       "      <td>[Hong Kong, United States, Mauritius, China]</td>\n",
       "    </tr>\n",
       "    <tr>\n",
       "      <th>DELPNH</th>\n",
       "      <td>5</td>\n",
       "      <td>0.357143</td>\n",
       "      <td>[Cambodia, India, France, United States, Vietn...</td>\n",
       "    </tr>\n",
       "    <tr>\n",
       "      <th>CKGPNH</th>\n",
       "      <td>1</td>\n",
       "      <td>0.333333</td>\n",
       "      <td>[Taiwan, China, Cambodia]</td>\n",
       "    </tr>\n",
       "    <tr>\n",
       "      <th>TRZXIY</th>\n",
       "      <td>2</td>\n",
       "      <td>0.333333</td>\n",
       "      <td>[China, United Arab Emirates, India, (not set)]</td>\n",
       "    </tr>\n",
       "    <tr>\n",
       "      <th>CTUMAA</th>\n",
       "      <td>2</td>\n",
       "      <td>0.333333</td>\n",
       "      <td>[India, China, Taiwan, Vietnam]</td>\n",
       "    </tr>\n",
       "    <tr>\n",
       "      <th>CMBMRU</th>\n",
       "      <td>1</td>\n",
       "      <td>0.333333</td>\n",
       "      <td>[Sri Lanka, Hong Kong, Australia]</td>\n",
       "    </tr>\n",
       "  </tbody>\n",
       "</table>\n",
       "</div>"
      ],
      "text/plain": [
       "       Extra searches Proportion of extra searches  \\\n",
       "DPSKTM             13                     0.541667   \n",
       "DPSIKA              2                          0.5   \n",
       "PEKRGN              2                          0.5   \n",
       "DMKKTM              5                     0.416667   \n",
       "HKGMRU              2                          0.4   \n",
       "DELPNH              5                     0.357143   \n",
       "CKGPNH              1                     0.333333   \n",
       "TRZXIY              2                     0.333333   \n",
       "CTUMAA              2                     0.333333   \n",
       "CMBMRU              1                     0.333333   \n",
       "\n",
       "                                                  Origins  \n",
       "DPSKTM  [Nepal, Indonesia, Australia, United States, C...  \n",
       "DPSIKA   [Australia, Indonesia, United Kingdom, Malaysia]  \n",
       "PEKRGN     [United States, Japan, China, Myanmar (Burma)]  \n",
       "DMKKTM  [Thailand, United States, Nepal, Norway, Japan...  \n",
       "HKGMRU       [Hong Kong, United States, Mauritius, China]  \n",
       "DELPNH  [Cambodia, India, France, United States, Vietn...  \n",
       "CKGPNH                          [Taiwan, China, Cambodia]  \n",
       "TRZXIY    [China, United Arab Emirates, India, (not set)]  \n",
       "CTUMAA                    [India, China, Taiwan, Vietnam]  \n",
       "CMBMRU                  [Sri Lanka, Hong Kong, Australia]  "
      ]
     },
     "execution_count": 197,
     "metadata": {},
     "output_type": "execute_result"
    }
   ],
   "source": [
    "extra_local_searches_df = pd.DataFrame(extra_local_searches).transpose()\\\n",
    "    .rename(columns={0:'Extra searches', 1:'Proportion of extra searches', 2:'Origins'})\n",
    "extra_local_searches_df.sort_values('Proportion of extra searches', ascending=False).head(10)"
   ]
  },
  {
   "cell_type": "code",
   "execution_count": 203,
   "metadata": {},
   "outputs": [
    {
     "name": "stdout",
     "output_type": "stream",
     "text": [
      "5.5% of searchs are from outside route locals.\n"
     ]
    }
   ],
   "source": [
    "print(f'{(extra_local_searches_df[\"Extra searches\"].sum() *100 / df.shape[0]):.1f}% of searches are from outside route locals.')"
   ]
  },
  {
   "attachments": {},
   "cell_type": "markdown",
   "metadata": {},
   "source": [
    "About 1 in 20 searches are made from a country outside of the route source/destination. \n",
    "One idea would be to label these as such, and then drop the `booking_origin`.\n",
    "\n",
    "However, without mapping the routes to particular countries, identifying the extra booking origins is not possible in many cases (e.g. if a route was searched 3 times from 3 different places, we need extra info).\n",
    "\n",
    "Since this only effects 5% of searches, the most time efficient method is to simply drop `booking_origin` and rely on the route info."
   ]
  },
  {
   "attachments": {},
   "cell_type": "markdown",
   "metadata": {},
   "source": [
    "# Sales channel\n",
    "\n",
    "There are two channels available: internet or mobile. Internet is about 8 or 9 times more popular, and has a 1.5 times higher completion rate."
   ]
  },
  {
   "cell_type": "code",
   "execution_count": 119,
   "metadata": {},
   "outputs": [
    {
     "data": {
      "text/html": [
       "<div>\n",
       "<style scoped>\n",
       "    .dataframe tbody tr th:only-of-type {\n",
       "        vertical-align: middle;\n",
       "    }\n",
       "\n",
       "    .dataframe tbody tr th {\n",
       "        vertical-align: top;\n",
       "    }\n",
       "\n",
       "    .dataframe thead th {\n",
       "        text-align: right;\n",
       "    }\n",
       "</style>\n",
       "<table border=\"1\" class=\"dataframe\">\n",
       "  <thead>\n",
       "    <tr style=\"text-align: right;\">\n",
       "      <th></th>\n",
       "      <th>count</th>\n",
       "      <th>mean</th>\n",
       "    </tr>\n",
       "    <tr>\n",
       "      <th>sales_channel</th>\n",
       "      <th></th>\n",
       "      <th></th>\n",
       "    </tr>\n",
       "  </thead>\n",
       "  <tbody>\n",
       "    <tr>\n",
       "      <th>Internet</th>\n",
       "      <td>44382</td>\n",
       "      <td>0.154770</td>\n",
       "    </tr>\n",
       "    <tr>\n",
       "      <th>Mobile</th>\n",
       "      <td>5618</td>\n",
       "      <td>0.108402</td>\n",
       "    </tr>\n",
       "  </tbody>\n",
       "</table>\n",
       "</div>"
      ],
      "text/plain": [
       "               count      mean\n",
       "sales_channel                 \n",
       "Internet       44382  0.154770\n",
       "Mobile          5618  0.108402"
      ]
     },
     "execution_count": 119,
     "metadata": {},
     "output_type": "execute_result"
    }
   ],
   "source": [
    "df.groupby('sales_channel')['booking_complete'].agg(['count','mean'])"
   ]
  },
  {
   "attachments": {},
   "cell_type": "markdown",
   "metadata": {},
   "source": [
    "# Trip type\n",
    "\n",
    "The vast majority of trips are round trips. One way and circle tripes are vastly less popular, making up less than 1% of all searches recorded. Furthermore, the completion rate of these latter searches is about one third of that for round trips."
   ]
  },
  {
   "cell_type": "code",
   "execution_count": 120,
   "metadata": {},
   "outputs": [
    {
     "data": {
      "text/html": [
       "<div>\n",
       "<style scoped>\n",
       "    .dataframe tbody tr th:only-of-type {\n",
       "        vertical-align: middle;\n",
       "    }\n",
       "\n",
       "    .dataframe tbody tr th {\n",
       "        vertical-align: top;\n",
       "    }\n",
       "\n",
       "    .dataframe thead th {\n",
       "        text-align: right;\n",
       "    }\n",
       "</style>\n",
       "<table border=\"1\" class=\"dataframe\">\n",
       "  <thead>\n",
       "    <tr style=\"text-align: right;\">\n",
       "      <th></th>\n",
       "      <th>count</th>\n",
       "      <th>mean</th>\n",
       "    </tr>\n",
       "    <tr>\n",
       "      <th>trip_type</th>\n",
       "      <th></th>\n",
       "      <th></th>\n",
       "    </tr>\n",
       "  </thead>\n",
       "  <tbody>\n",
       "    <tr>\n",
       "      <th>CircleTrip</th>\n",
       "      <td>116</td>\n",
       "      <td>0.043103</td>\n",
       "    </tr>\n",
       "    <tr>\n",
       "      <th>OneWay</th>\n",
       "      <td>387</td>\n",
       "      <td>0.051680</td>\n",
       "    </tr>\n",
       "    <tr>\n",
       "      <th>RoundTrip</th>\n",
       "      <td>49497</td>\n",
       "      <td>0.150575</td>\n",
       "    </tr>\n",
       "  </tbody>\n",
       "</table>\n",
       "</div>"
      ],
      "text/plain": [
       "            count      mean\n",
       "trip_type                  \n",
       "CircleTrip    116  0.043103\n",
       "OneWay        387  0.051680\n",
       "RoundTrip   49497  0.150575"
      ]
     },
     "execution_count": 120,
     "metadata": {},
     "output_type": "execute_result"
    }
   ],
   "source": [
    "df.groupby('trip_type')['booking_complete'].agg(['count','mean'])"
   ]
  },
  {
   "attachments": {},
   "cell_type": "markdown",
   "metadata": {},
   "source": [
    "# Flight day\n",
    "\n",
    "We see that the day of departure is not so important in determining completion rate. Wednesday has a slightly higher rate, and Sunday very slightly lower."
   ]
  },
  {
   "cell_type": "code",
   "execution_count": 121,
   "metadata": {},
   "outputs": [
    {
     "data": {
      "text/html": [
       "<div>\n",
       "<style scoped>\n",
       "    .dataframe tbody tr th:only-of-type {\n",
       "        vertical-align: middle;\n",
       "    }\n",
       "\n",
       "    .dataframe tbody tr th {\n",
       "        vertical-align: top;\n",
       "    }\n",
       "\n",
       "    .dataframe thead th {\n",
       "        text-align: right;\n",
       "    }\n",
       "</style>\n",
       "<table border=\"1\" class=\"dataframe\">\n",
       "  <thead>\n",
       "    <tr style=\"text-align: right;\">\n",
       "      <th></th>\n",
       "      <th>count</th>\n",
       "      <th>mean</th>\n",
       "    </tr>\n",
       "    <tr>\n",
       "      <th>flight_day</th>\n",
       "      <th></th>\n",
       "      <th></th>\n",
       "    </tr>\n",
       "  </thead>\n",
       "  <tbody>\n",
       "    <tr>\n",
       "      <th>Fri</th>\n",
       "      <td>6761</td>\n",
       "      <td>0.145393</td>\n",
       "    </tr>\n",
       "    <tr>\n",
       "      <th>Mon</th>\n",
       "      <td>8102</td>\n",
       "      <td>0.148605</td>\n",
       "    </tr>\n",
       "    <tr>\n",
       "      <th>Sat</th>\n",
       "      <td>5812</td>\n",
       "      <td>0.148142</td>\n",
       "    </tr>\n",
       "    <tr>\n",
       "      <th>Sun</th>\n",
       "      <td>6554</td>\n",
       "      <td>0.141440</td>\n",
       "    </tr>\n",
       "    <tr>\n",
       "      <th>Thu</th>\n",
       "      <td>7424</td>\n",
       "      <td>0.151131</td>\n",
       "    </tr>\n",
       "    <tr>\n",
       "      <th>Tue</th>\n",
       "      <td>7673</td>\n",
       "      <td>0.147139</td>\n",
       "    </tr>\n",
       "    <tr>\n",
       "      <th>Wed</th>\n",
       "      <td>7674</td>\n",
       "      <td>0.163148</td>\n",
       "    </tr>\n",
       "  </tbody>\n",
       "</table>\n",
       "</div>"
      ],
      "text/plain": [
       "            count      mean\n",
       "flight_day                 \n",
       "Fri          6761  0.145393\n",
       "Mon          8102  0.148605\n",
       "Sat          5812  0.148142\n",
       "Sun          6554  0.141440\n",
       "Thu          7424  0.151131\n",
       "Tue          7673  0.147139\n",
       "Wed          7674  0.163148"
      ]
     },
     "execution_count": 121,
     "metadata": {},
     "output_type": "execute_result"
    }
   ],
   "source": [
    "df.groupby('flight_day')['booking_complete'].agg(['count','mean'])"
   ]
  },
  {
   "attachments": {},
   "cell_type": "markdown",
   "metadata": {},
   "source": [
    "# Conclusion\n",
    "\n",
    "We can see that some of the categorical features are more important in determining the likelihood of bookings being completed. Certain countries of origin and more likely, along with certain routes (perhaps these two are correlated). Also, internet searches (as opposed to mobile) are more likely to be completed. Finally, since round trips are the vastly more popular search made, it makes sense to focus on these."
   ]
  },
  {
   "attachments": {},
   "cell_type": "markdown",
   "metadata": {},
   "source": [
    "# Plan:\n",
    "\n",
    "* Use booking origin: group together those with fewer than 100 (?) bookings.\n",
    "* For routes, could do something similar. Could also study routes by airports involved and see if it correlates to booking origin.\n",
    "* PCA: compare 2D viz for bookings completed and not.\n",
    "* Use a tree-based model (?) to predict completion and get feature importances."
   ]
  }
 ],
 "metadata": {
  "kernelspec": {
   "display_name": ".venv",
   "language": "python",
   "name": "python3"
  },
  "language_info": {
   "codemirror_mode": {
    "name": "ipython",
    "version": 3
   },
   "file_extension": ".py",
   "mimetype": "text/x-python",
   "name": "python",
   "nbconvert_exporter": "python",
   "pygments_lexer": "ipython3",
   "version": "3.9.13"
  },
  "orig_nbformat": 4,
  "vscode": {
   "interpreter": {
    "hash": "a21063291a13e2c2bf50e3e7f2b931f9d42a87a27f5a2383d522bc280aa39f1e"
   }
  }
 },
 "nbformat": 4,
 "nbformat_minor": 2
}
